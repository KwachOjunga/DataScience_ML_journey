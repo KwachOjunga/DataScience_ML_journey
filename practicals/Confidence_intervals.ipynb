{
 "cells": [
  {
   "cell_type": "markdown",
   "metadata": {},
   "source": [
    "#### **ConfidenceInterval**\n",
    "\n",
    "$\\bar{x} \\frac{+}{-} Z * \\frac{\\sigma}{\\sqrt{n}}$\n",
    "\n",
    "$\\bar{x} - sample mean$\n",
    "\n",
    "$n - sample size$\n",
    "\n",
    "$\\sigma  - population standard deviation$\n",
    "\n",
    "$Z - Critical value of confidence level$"
   ]
  },
  {
   "cell_type": "code",
   "execution_count": 1,
   "metadata": {},
   "outputs": [],
   "source": [
    "import numpy as np\n",
    "import scipy.stats as sp "
   ]
  },
  {
   "cell_type": "code",
   "execution_count": 11,
   "metadata": {},
   "outputs": [],
   "source": [
    "def confidence_interval(sample,std,con_lvl):\n",
    "    x_bar = np.mean(sample)\n",
    "    n = len(sample)\n",
    "    z = sp.norm.ppf(((1-con_lvl)/2)+con_lvl)\n",
    "    low_lim = x_bar - (z * (std/np.sqrt(n)))\n",
    "    high_lim = x_bar + (z * (std/np.sqrt(n)))\n",
    "    print(f\"Your {con_lvl} z confidence interval is ({low_lim},{high_lim})\")\n",
    "    return (low_lim,high_lim)"
   ]
  },
  {
   "cell_type": "code",
   "execution_count": 9,
   "metadata": {},
   "outputs": [],
   "source": [
    "def z_confidence_interval(data, st_dev, con_lvl):\n",
    "    import statistics as st\n",
    "    import scipy.stats as sp\n",
    "    import math\n",
    "    sample_mean = st.mean(data)\n",
    "    n = len(data)\n",
    "    crit_value = sp.norm.ppf(((1 - con_lvl) / 2) + \\\n",
    "                             con_lvl)\n",
    "    lower_limit = sample_mean - (crit_value * \\\n",
    "                                 (st_dev/math.sqrt(n)))\n",
    "    higher_limit = sample_mean + (crit_value * \\\n",
    "                                  (st_dev / math.sqrt(n)))\n",
    "    print (f'Your {con_lvl} z confidence interval  is ({lower_limit}, {higher_limit})')\n",
    "    return (lower_limit,higher_limit)"
   ]
  },
  {
   "cell_type": "code",
   "execution_count": 20,
   "metadata": {},
   "outputs": [
    {
     "name": "stdout",
     "output_type": "stream",
     "text": [
      "Your 0.95 z confidence interval is (3.965845784931483,6.034154215068517)\n"
     ]
    },
    {
     "data": {
      "text/plain": [
       "(3.965845784931483, 6.034154215068517)"
      ]
     },
     "execution_count": 20,
     "metadata": {},
     "output_type": "execute_result"
    }
   ],
   "source": [
    "import random\n",
    "random.seed(39809)\n",
    "sample_list = []\n",
    "for i in range(30):\n",
    "    sample_list.append(random.randint(0, 10))\n",
    "confidence_interval(sample_list,2.89,0.95)"
   ]
  },
  {
   "cell_type": "code",
   "execution_count": 15,
   "metadata": {},
   "outputs": [
    {
     "data": {
      "text/plain": [
       "[10,\n",
       " 11,\n",
       " 19,\n",
       " 14,\n",
       " 20,\n",
       " 10,\n",
       " 12,\n",
       " 14,\n",
       " 11,\n",
       " 13,\n",
       " 5,\n",
       " 10,\n",
       " 19,\n",
       " 8,\n",
       " 5,\n",
       " 8,\n",
       " 11,\n",
       " 17,\n",
       " 18,\n",
       " 9,\n",
       " 13,\n",
       " 16,\n",
       " 5,\n",
       " 14,\n",
       " 19,\n",
       " 20,\n",
       " 20,\n",
       " 11,\n",
       " 12,\n",
       " 7]"
      ]
     },
     "execution_count": 15,
     "metadata": {},
     "output_type": "execute_result"
    }
   ],
   "source": [
    "sample_list"
   ]
  },
  {
   "cell_type": "code",
   "execution_count": 16,
   "metadata": {},
   "outputs": [],
   "source": [
    "import matplotlib.pyplot as plt"
   ]
  },
  {
   "cell_type": "code",
   "execution_count": 17,
   "metadata": {},
   "outputs": [
    {
     "data": {
      "text/plain": [
       "(array([3., 1., 3., 3., 6., 2., 3., 1., 2., 6.]),\n",
       " array([ 5. ,  6.5,  8. ,  9.5, 11. , 12.5, 14. , 15.5, 17. , 18.5, 20. ]),\n",
       " <BarContainer object of 10 artists>)"
      ]
     },
     "execution_count": 17,
     "metadata": {},
     "output_type": "execute_result"
    },
    {
     "data": {
      "image/png": "[encoded data removed]",
      "text/plain": [
       "<Figure size 640x480 with 1 Axes>"
      ]
     },
     "metadata": {},
     "output_type": "display_data"
    }
   ],
   "source": [
    "plt.hist(sample_list)"
   ]
  },
  {
   "cell_type": "markdown",
   "metadata": {},
   "source": [
    "### **t-Confidence interval**\n",
    "\n",
    "$\\bar{x} \\frac{+}{-} t_{n-1} * \\frac{S}{\\sqrt{n}}$\n",
    "\n",
    "$t_{n-1}$ - is the critical value with n-1 degrees of freedom"
   ]
  },
  {
   "cell_type": "code",
   "execution_count": 18,
   "metadata": {},
   "outputs": [],
   "source": [
    "def t_confidence_interval(sample,con_lvl):\n",
    "    sample_mean = np.mean(sample)\n",
    "    n = len(sample)\n",
    "    sample_std = np.std(sample)\n",
    "    t = sp.t.ppf(((1-con_lvl)/2) + con_lvl,n-1)\n",
    "    low_lim = sample_mean - t * (sample_std/np.sqrt(n))\n",
    "    high_lim = sample_mean + t * (sample_std/np.sqrt(n))\n",
    "    print(f\"Your {con_lvl} t confidence interval is ({low_lim},{high_lim})\")\n",
    "    return (low_lim,high_lim)"
   ]
  },
  {
   "cell_type": "code",
   "execution_count": 21,
   "metadata": {},
   "outputs": [
    {
     "name": "stdout",
     "output_type": "stream",
     "text": [
      "Your 0.95 t confidence interval is (3.847067609831029,6.152932390168971)\n"
     ]
    },
    {
     "data": {
      "text/plain": [
       "(3.847067609831029, 6.152932390168971)"
      ]
     },
     "execution_count": 21,
     "metadata": {},
     "output_type": "execute_result"
    }
   ],
   "source": [
    "t_confidence_interval(sample_list,0.95)"
   ]
  },
  {
   "cell_type": "markdown",
   "metadata": {},
   "source": [
    "### **Proportion's Confidence Interval**\n",
    "\n",
    "$\\hat{p} +_-  Z * \\sqrt{\\frac{\\hat{p} * (1-\\hat{p})}{n}}$\n",
    "\n",
    "$\\hat{p}$ - the_sample_proportion\n",
    "\n",
    "$n$ - sample_size\n",
    "\n",
    "$Z$ - critcal_value_from_the_standard_normal_distribution"
   ]
  },
  {
   "cell_type": "code",
   "execution_count": 25,
   "metadata": {},
   "outputs": [],
   "source": [
    "def prop_confidence_interval(p_hat,n,con_lvl):\n",
    "    z = sp.norm.ppf(((1-con_lvl)/2) + con_lvl)\n",
    "    low_lim = p_hat - (z * np.sqrt(np.divide((p_hat * (1-p_hat)),n)))\n",
    "    high_lim = p_hat + (z * np.sqrt(np.divide((p_hat * (1-p_hat)),n)))\n",
    "    print(f\"Your {con_lvl} t confidence interval is ({low_lim},{high_lim})\")\n",
    "    return (low_lim,high_lim)"
   ]
  },
  {
   "cell_type": "code",
   "execution_count": 26,
   "metadata": {},
   "outputs": [
    {
     "name": "stdout",
     "output_type": "stream",
     "text": [
      "Your 0.95 t confidence interval is (0.4877856513683282,0.5922143486316719)\n"
     ]
    },
    {
     "data": {
      "text/plain": [
       "(0.4877856513683282, 0.5922143486316719)"
      ]
     },
     "execution_count": 26,
     "metadata": {},
     "output_type": "execute_result"
    }
   ],
   "source": [
    "prop_confidence_interval(0.54,350, 0.95)"
   ]
  },
  {
   "cell_type": "code",
   "execution_count": null,
   "metadata": {},
   "outputs": [],
   "source": []
  }
 ],
 "metadata": {
  "kernelspec": {
   "display_name": "Python 3",
   "language": "python",
   "name": "python3"
  },
  "language_info": {
   "codemirror_mode": {
    "name": "ipython",
    "version": 3
   },
   "file_extension": ".py",
   "mimetype": "text/x-python",
   "name": "python",
   "nbconvert_exporter": "python",
   "pygments_lexer": "ipython3",
   "version": "3.11.4"
  }
 },
 "nbformat": 4,
 "nbformat_minor": 2
}
